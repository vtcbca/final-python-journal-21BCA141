{
 "cells": [
  {
   "cell_type": "code",
   "execution_count": 2,
   "id": "af6dbcf8",
   "metadata": {},
   "outputs": [],
   "source": [
    "import pandas as pd\n",
    "import csv"
   ]
  },
  {
   "cell_type": "code",
   "execution_count": 3,
   "id": "2a4eb6fd",
   "metadata": {},
   "outputs": [],
   "source": [
    "def sol1():\n",
    "    \n",
    "    print(\"\\nSolution 1 : \\n\\n\")\n",
    "\n",
    "    with open('mihir.csv','w',newline='') as data_object:\n",
    "        \n",
    "        writer_object = csv.writer(data_object)\n",
    "\n",
    "        header = ['empid','empname','department','experience','salary']\n",
    "\n",
    "        writer_object.writerow(header)\n",
    "\n",
    "        data = [['1','mihir','BCA','1 Years','10000'],\n",
    "                ['2','mihir','BBA','2 Years','10000'],\n",
    "                ['3','mihir','BCA','1 Years','20000'],\n",
    "                ['4','mihir','BCA','2 Years','20000'],\n",
    "                ['5','mihir','BBA','3 Years','10000']]\n",
    "\n",
    "        writer_object.writerows(data)\n",
    "\n",
    "        print(\"Header Written Successfully ! \")"
   ]
  },
  {
   "cell_type": "code",
   "execution_count": 4,
   "id": "42924889",
   "metadata": {},
   "outputs": [],
   "source": [
    "def sol2():\n",
    "    \n",
    "    print(\"\\nSolution 2 : \\n\\n\")\n",
    "\n",
    "    with open('mihir.csv','r') as data_object:\n",
    "\n",
    "        pen_read = csv.reader(data_object)\n",
    "\n",
    "        for line in pen_read:\n",
    "            print(line)"
   ]
  },
  {
   "cell_type": "code",
   "execution_count": 5,
   "id": "4e83586d",
   "metadata": {},
   "outputs": [],
   "source": [
    "def sol3():\n",
    "    \n",
    "    print(\"\\nSolution 3 : \\n\\n\")\n",
    "\n",
    "    with open('mihir.csv','a',newline='') as data_object:\n",
    "\n",
    "        writer_object = csv.writer(data_object)\n",
    "\n",
    "        data = [['6','mihir','BCA','2 Years','20000'],\n",
    "                ['7','mihir','BCA','2 Years','30000']]\n",
    "\n",
    "        writer_object.writerows(data)\n",
    "\n",
    "        print('Data Append Successfull ! ')"
   ]
  },
  {
   "cell_type": "code",
   "execution_count": 6,
   "id": "621cacb1",
   "metadata": {},
   "outputs": [],
   "source": [
    "def sol4():\n",
    "    \n",
    "    print(\"\\nSolution 4 : \\n\\n\")\n",
    "        \n",
    "    with open('mihir.csv','r') as data_object:\n",
    "\n",
    "        pen_read = csv.reader(data_object)\n",
    "\n",
    "        for line in pen_read:    \n",
    "            if 'BCA' in line:\n",
    "                print(line[-1])"
   ]
  },
  {
   "cell_type": "code",
   "execution_count": 7,
   "id": "d0a32472",
   "metadata": {},
   "outputs": [],
   "source": [
    "def sol5():\n",
    "    \n",
    "    print(\"\\nSolution 5 : \\n\\n\")\n",
    "\n",
    "    df = pd.read_csv('mihir.csv')\n",
    "\n",
    "    print(df) "
   ]
  },
  {
   "cell_type": "code",
   "execution_count": 8,
   "id": "18d40408",
   "metadata": {},
   "outputs": [
    {
     "name": "stdout",
     "output_type": "stream",
     "text": [
      "\n",
      "Solution 1 : \n",
      "\n",
      "\n",
      "Header Written Successfully ! \n",
      "\n",
      "Solution 2 : \n",
      "\n",
      "\n",
      "['empid', 'empname', 'department', 'experience', 'salary']\n",
      "['1', 'mihir', 'BCA', '1 Years', '10000']\n",
      "['2', 'mihir', 'BBA', '2 Years', '10000']\n",
      "['3', 'mihir', 'BCA', '1 Years', '20000']\n",
      "['4', 'mihir', 'BCA', '2 Years', '20000']\n",
      "['5', 'mihir', 'BBA', '3 Years', '10000']\n",
      "\n",
      "Solution 3 : \n",
      "\n",
      "\n",
      "Data Append Successfull ! \n",
      "\n",
      "Solution 4 : \n",
      "\n",
      "\n",
      "10000\n",
      "20000\n",
      "20000\n",
      "20000\n",
      "30000\n",
      "\n",
      "Solution 5 : \n",
      "\n",
      "\n",
      "   empid empname department experience  salary\n",
      "0      1   mihir        BCA    1 Years   10000\n",
      "1      2   mihir        BBA    2 Years   10000\n",
      "2      3   mihir        BCA    1 Years   20000\n",
      "3      4   mihir        BCA    2 Years   20000\n",
      "4      5   mihir        BBA    3 Years   10000\n",
      "5      6   mihir        BCA    2 Years   20000\n",
      "6      7   mihir        BCA    2 Years   30000\n"
     ]
    }
   ],
   "source": [
    "sol1()\n",
    "sol2()\n",
    "sol3()\n",
    "sol4()\n",
    "sol5()"
   ]
  }
 ],
 "metadata": {
  "kernelspec": {
   "display_name": "Python 3 (ipykernel)",
   "language": "python",
   "name": "python3"
  },
  "language_info": {
   "codemirror_mode": {
    "name": "ipython",
    "version": 3
   },
   "file_extension": ".py",
   "mimetype": "text/x-python",
   "name": "python",
   "nbconvert_exporter": "python",
   "pygments_lexer": "ipython3",
   "version": "3.10.7"
  }
 },
 "nbformat": 4,
 "nbformat_minor": 5
}
